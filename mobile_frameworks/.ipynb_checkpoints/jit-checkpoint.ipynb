{
 "cells": [
  {
   "cell_type": "code",
   "execution_count": 1,
   "metadata": {
    "ExecuteTime": {
     "end_time": "2019-06-11T20:41:52.138051Z",
     "start_time": "2019-06-11T20:41:51.773149Z"
    }
   },
   "outputs": [],
   "source": [
    "import torch, torchvision\n",
    "\n",
    "torch.__version__, torchvision.__version__\n",
    "\n",
    "from torch import nn\n",
    "\n",
    "#pytorch detectron\n",
    "from detectron.core.config import assert_and_infer_cfg\n",
    "from detectron.core.config import cfg\n",
    "from detectron.core.config import merge_cfg_from_file\n",
    "\n",
    "from detectron.utils.io import cache_url\n",
    "import detectron.core.test_engine as infer_engine"
   ]
  },
  {
   "cell_type": "code",
   "execution_count": 3,
   "metadata": {
    "ExecuteTime": {
     "end_time": "2019-06-11T20:45:27.552469Z",
     "start_time": "2019-06-11T20:45:27.550049Z"
    }
   },
   "outputs": [],
   "source": [
    "weights = cache_url(weights_path, cfg.DOWNLOAD_CACHE)\n",
    "torch_model = infer_engine.initialize_model_from_cfg(weights)\n",
    "torch_model.train(False)"
   ]
  },
  {
   "cell_type": "code",
   "execution_count": 2,
   "metadata": {
    "ExecuteTime": {
     "end_time": "2019-06-11T20:45:22.331544Z",
     "start_time": "2019-06-11T20:45:22.329151Z"
    }
   },
   "outputs": [],
   "source": [
    "# to jit"
   ]
  },
  {
   "cell_type": "code",
   "execution_count": 4,
   "metadata": {
    "ExecuteTime": {
     "end_time": "2019-06-11T20:45:29.887974Z",
     "start_time": "2019-06-11T20:45:29.885486Z"
    }
   },
   "outputs": [],
   "source": [
    "dummy_input = torch.randn(1, 3, 224, 224)\n",
    "traced_script_module = torch.jit.trace(torch_model, dummy_input)\n",
    "traced_script_module.save(\"model.pth\")"
   ]
  },
  {
   "cell_type": "code",
   "execution_count": null,
   "metadata": {},
   "outputs": [],
   "source": []
  }
 ],
 "metadata": {
  "kernelspec": {
   "display_name": "Python 3",
   "language": "python",
   "name": "python3"
  },
  "language_info": {
   "codemirror_mode": {
    "name": "ipython",
    "version": 3
   },
   "file_extension": ".py",
   "mimetype": "text/x-python",
   "name": "python",
   "nbconvert_exporter": "python",
   "pygments_lexer": "ipython3",
   "version": "3.6.8"
  },
  "varInspector": {
   "cols": {
    "lenName": 16,
    "lenType": 16,
    "lenVar": 40
   },
   "kernels_config": {
    "python": {
     "delete_cmd_postfix": "",
     "delete_cmd_prefix": "del ",
     "library": "var_list.py",
     "varRefreshCmd": "print(var_dic_list())"
    },
    "r": {
     "delete_cmd_postfix": ") ",
     "delete_cmd_prefix": "rm(",
     "library": "var_list.r",
     "varRefreshCmd": "cat(var_dic_list()) "
    }
   },
   "types_to_exclude": [
    "module",
    "function",
    "builtin_function_or_method",
    "instance",
    "_Feature"
   ],
   "window_display": false
  }
 },
 "nbformat": 4,
 "nbformat_minor": 2
}
